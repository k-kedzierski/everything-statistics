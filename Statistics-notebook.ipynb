{
 "cells": [
  {
   "cell_type": "markdown",
   "metadata": {},
   "source": [
    "# Statistics\n",
    "Everything statistics related in Python.\n",
    "## Imports\n",
    "The most common ones"
   ]
  },
  {
   "cell_type": "code",
   "execution_count": 1,
   "metadata": {},
   "outputs": [],
   "source": [
    "# Built-in Python modules\n",
    "import math\n",
    "import statistics\n",
    "\n",
    "# External packages\n",
    "import scipy.stats as st\n",
    "import numpy as np\n",
    "import matplotlib.pylab as plt\n",
    "import pandas as pd"
   ]
  },
  {
   "source": [
    "## Interactive kernel\n",
    "IPython supports interactive documentation and kernel commands. Use '?' to see documentation of the object, and '!' to run kernel command."
   ],
   "cell_type": "markdown",
   "metadata": {}
  },
  {
   "cell_type": "code",
   "execution_count": 2,
   "metadata": {},
   "outputs": [
    {
     "output_type": "stream",
     "name": "stdout",
     "text": [
      "/Users/kacperkedzierski/Documents/Projects/Statistics/everything-statistics\n"
     ]
    },
    {
     "output_type": "stream",
     "text": [
      "\u001b[0;31mSignature:\u001b[0m \u001b[0mmath\u001b[0m\u001b[0;34m.\u001b[0m\u001b[0msqrt\u001b[0m\u001b[0;34m(\u001b[0m\u001b[0mx\u001b[0m\u001b[0;34m,\u001b[0m \u001b[0;34m/\u001b[0m\u001b[0;34m)\u001b[0m\u001b[0;34m\u001b[0m\u001b[0;34m\u001b[0m\u001b[0m\n",
      "\u001b[0;31mDocstring:\u001b[0m Return the square root of x.\n",
      "\u001b[0;31mType:\u001b[0m      builtin_function_or_method\n"
     ],
     "name": "stdout"
    }
   ],
   "source": [
    "!pwd\n",
    "?math.sqrt"
   ]
  },
  {
   "source": [
    "## Plots\n",
    "Matplotlib package allows creation of plots, which can be examined more deeply in Plot Viewer."
   ],
   "cell_type": "markdown",
   "metadata": {}
  },
  {
   "cell_type": "code",
   "execution_count": 3,
   "metadata": {},
   "outputs": [
    {
     "output_type": "display_data",
     "data": {
      "text/plain": "<Figure size 432x288 with 1 Axes>",
      "image/svg+xml": "<?xml version=\"1.0\" encoding=\"utf-8\" standalone=\"no\"?>\n<!DOCTYPE svg PUBLIC \"-//W3C//DTD SVG 1.1//EN\"\n  \"http://www.w3.org/Graphics/SVG/1.1/DTD/svg11.dtd\">\n<!-- Created with matplotlib (https://matplotlib.org/) -->\n<svg height=\"248.518125pt\" version=\"1.1\" viewBox=\"0 0 372.103125 248.518125\" width=\"372.103125pt\" xmlns=\"http://www.w3.org/2000/svg\" xmlns:xlink=\"http://www.w3.org/1999/xlink\">\n <metadata>\n  <rdf:RDF xmlns:cc=\"http://creativecommons.org/ns#\" xmlns:dc=\"http://purl.org/dc/elements/1.1/\" xmlns:rdf=\"http://www.w3.org/1999/02/22-rdf-syntax-ns#\">\n   <cc:Work>\n    <dc:type rdf:resource=\"http://purl.org/dc/dcmitype/StillImage\"/>\n    <dc:date>2020-11-23T01:54:59.066102</dc:date>\n    <dc:format>image/svg+xml</dc:format>\n    <dc:creator>\n     <cc:Agent>\n      <dc:title>Matplotlib v3.3.2, https://matplotlib.org/</dc:title>\n     </cc:Agent>\n    </dc:creator>\n   </cc:Work>\n  </rdf:RDF>\n </metadata>\n <defs>\n  <style type=\"text/css\">*{stroke-linecap:butt;stroke-linejoin:round;}</style>\n </defs>\n <g id=\"figure_1\">\n  <g id=\"patch_1\">\n   <path d=\"M 0 248.518125 \nL 372.103125 248.518125 \nL 372.103125 0 \nL 0 0 \nz\n\" style=\"fill:none;\"/>\n  </g>\n  <g id=\"axes_1\">\n   <g id=\"patch_2\">\n    <path d=\"M 30.103125 224.64 \nL 364.903125 224.64 \nL 364.903125 7.2 \nL 30.103125 7.2 \nz\n\" style=\"fill:#ffffff;\"/>\n   </g>\n   <g id=\"matplotlib.axis_1\">\n    <g id=\"xtick_1\">\n     <g id=\"line2d_1\">\n      <defs>\n       <path d=\"M 0 0 \nL 0 3.5 \n\" id=\"m6a8e189cb0\" style=\"stroke:#000000;stroke-width:0.8;\"/>\n      </defs>\n      <g>\n       <use style=\"stroke:#000000;stroke-width:0.8;\" x=\"79.139489\" xlink:href=\"#m6a8e189cb0\" y=\"224.64\"/>\n      </g>\n     </g>\n     <g id=\"text_1\">\n      <!-- 2 -->\n      <g transform=\"translate(75.958239 239.238437)scale(0.1 -0.1)\">\n       <defs>\n        <path d=\"M 19.1875 8.296875 \nL 53.609375 8.296875 \nL 53.609375 0 \nL 7.328125 0 \nL 7.328125 8.296875 \nQ 12.9375 14.109375 22.625 23.890625 \nQ 32.328125 33.6875 34.8125 36.53125 \nQ 39.546875 41.84375 41.421875 45.53125 \nQ 43.3125 49.21875 43.3125 52.78125 \nQ 43.3125 58.59375 39.234375 62.25 \nQ 35.15625 65.921875 28.609375 65.921875 \nQ 23.96875 65.921875 18.8125 64.3125 \nQ 13.671875 62.703125 7.8125 59.421875 \nL 7.8125 69.390625 \nQ 13.765625 71.78125 18.9375 73 \nQ 24.125 74.21875 28.421875 74.21875 \nQ 39.75 74.21875 46.484375 68.546875 \nQ 53.21875 62.890625 53.21875 53.421875 \nQ 53.21875 48.921875 51.53125 44.890625 \nQ 49.859375 40.875 45.40625 35.40625 \nQ 44.1875 33.984375 37.640625 27.21875 \nQ 31.109375 20.453125 19.1875 8.296875 \nz\n\" id=\"DejaVuSans-50\"/>\n       </defs>\n       <use xlink:href=\"#DejaVuSans-50\"/>\n      </g>\n     </g>\n    </g>\n    <g id=\"xtick_2\">\n     <g id=\"line2d_2\">\n      <g>\n       <use style=\"stroke:#000000;stroke-width:0.8;\" x=\"146.775852\" xlink:href=\"#m6a8e189cb0\" y=\"224.64\"/>\n      </g>\n     </g>\n     <g id=\"text_2\">\n      <!-- 4 -->\n      <g transform=\"translate(143.594602 239.238437)scale(0.1 -0.1)\">\n       <defs>\n        <path d=\"M 37.796875 64.3125 \nL 12.890625 25.390625 \nL 37.796875 25.390625 \nz\nM 35.203125 72.90625 \nL 47.609375 72.90625 \nL 47.609375 25.390625 \nL 58.015625 25.390625 \nL 58.015625 17.1875 \nL 47.609375 17.1875 \nL 47.609375 0 \nL 37.796875 0 \nL 37.796875 17.1875 \nL 4.890625 17.1875 \nL 4.890625 26.703125 \nz\n\" id=\"DejaVuSans-52\"/>\n       </defs>\n       <use xlink:href=\"#DejaVuSans-52\"/>\n      </g>\n     </g>\n    </g>\n    <g id=\"xtick_3\">\n     <g id=\"line2d_3\">\n      <g>\n       <use style=\"stroke:#000000;stroke-width:0.8;\" x=\"214.412216\" xlink:href=\"#m6a8e189cb0\" y=\"224.64\"/>\n      </g>\n     </g>\n     <g id=\"text_3\">\n      <!-- 6 -->\n      <g transform=\"translate(211.230966 239.238437)scale(0.1 -0.1)\">\n       <defs>\n        <path d=\"M 33.015625 40.375 \nQ 26.375 40.375 22.484375 35.828125 \nQ 18.609375 31.296875 18.609375 23.390625 \nQ 18.609375 15.53125 22.484375 10.953125 \nQ 26.375 6.390625 33.015625 6.390625 \nQ 39.65625 6.390625 43.53125 10.953125 \nQ 47.40625 15.53125 47.40625 23.390625 \nQ 47.40625 31.296875 43.53125 35.828125 \nQ 39.65625 40.375 33.015625 40.375 \nz\nM 52.59375 71.296875 \nL 52.59375 62.3125 \nQ 48.875 64.0625 45.09375 64.984375 \nQ 41.3125 65.921875 37.59375 65.921875 \nQ 27.828125 65.921875 22.671875 59.328125 \nQ 17.53125 52.734375 16.796875 39.40625 \nQ 19.671875 43.65625 24.015625 45.921875 \nQ 28.375 48.1875 33.59375 48.1875 \nQ 44.578125 48.1875 50.953125 41.515625 \nQ 57.328125 34.859375 57.328125 23.390625 \nQ 57.328125 12.15625 50.6875 5.359375 \nQ 44.046875 -1.421875 33.015625 -1.421875 \nQ 20.359375 -1.421875 13.671875 8.265625 \nQ 6.984375 17.96875 6.984375 36.375 \nQ 6.984375 53.65625 15.1875 63.9375 \nQ 23.390625 74.21875 37.203125 74.21875 \nQ 40.921875 74.21875 44.703125 73.484375 \nQ 48.484375 72.75 52.59375 71.296875 \nz\n\" id=\"DejaVuSans-54\"/>\n       </defs>\n       <use xlink:href=\"#DejaVuSans-54\"/>\n      </g>\n     </g>\n    </g>\n    <g id=\"xtick_4\">\n     <g id=\"line2d_4\">\n      <g>\n       <use style=\"stroke:#000000;stroke-width:0.8;\" x=\"282.04858\" xlink:href=\"#m6a8e189cb0\" y=\"224.64\"/>\n      </g>\n     </g>\n     <g id=\"text_4\">\n      <!-- 8 -->\n      <g transform=\"translate(278.86733 239.238437)scale(0.1 -0.1)\">\n       <defs>\n        <path d=\"M 31.78125 34.625 \nQ 24.75 34.625 20.71875 30.859375 \nQ 16.703125 27.09375 16.703125 20.515625 \nQ 16.703125 13.921875 20.71875 10.15625 \nQ 24.75 6.390625 31.78125 6.390625 \nQ 38.8125 6.390625 42.859375 10.171875 \nQ 46.921875 13.96875 46.921875 20.515625 \nQ 46.921875 27.09375 42.890625 30.859375 \nQ 38.875 34.625 31.78125 34.625 \nz\nM 21.921875 38.8125 \nQ 15.578125 40.375 12.03125 44.71875 \nQ 8.5 49.078125 8.5 55.328125 \nQ 8.5 64.0625 14.71875 69.140625 \nQ 20.953125 74.21875 31.78125 74.21875 \nQ 42.671875 74.21875 48.875 69.140625 \nQ 55.078125 64.0625 55.078125 55.328125 \nQ 55.078125 49.078125 51.53125 44.71875 \nQ 48 40.375 41.703125 38.8125 \nQ 48.828125 37.15625 52.796875 32.3125 \nQ 56.78125 27.484375 56.78125 20.515625 \nQ 56.78125 9.90625 50.3125 4.234375 \nQ 43.84375 -1.421875 31.78125 -1.421875 \nQ 19.734375 -1.421875 13.25 4.234375 \nQ 6.78125 9.90625 6.78125 20.515625 \nQ 6.78125 27.484375 10.78125 32.3125 \nQ 14.796875 37.15625 21.921875 38.8125 \nz\nM 18.3125 54.390625 \nQ 18.3125 48.734375 21.84375 45.5625 \nQ 25.390625 42.390625 31.78125 42.390625 \nQ 38.140625 42.390625 41.71875 45.5625 \nQ 45.3125 48.734375 45.3125 54.390625 \nQ 45.3125 60.0625 41.71875 63.234375 \nQ 38.140625 66.40625 31.78125 66.40625 \nQ 25.390625 66.40625 21.84375 63.234375 \nQ 18.3125 60.0625 18.3125 54.390625 \nz\n\" id=\"DejaVuSans-56\"/>\n       </defs>\n       <use xlink:href=\"#DejaVuSans-56\"/>\n      </g>\n     </g>\n    </g>\n    <g id=\"xtick_5\">\n     <g id=\"line2d_5\">\n      <g>\n       <use style=\"stroke:#000000;stroke-width:0.8;\" x=\"349.684943\" xlink:href=\"#m6a8e189cb0\" y=\"224.64\"/>\n      </g>\n     </g>\n     <g id=\"text_5\">\n      <!-- 10 -->\n      <g transform=\"translate(343.322443 239.238437)scale(0.1 -0.1)\">\n       <defs>\n        <path d=\"M 12.40625 8.296875 \nL 28.515625 8.296875 \nL 28.515625 63.921875 \nL 10.984375 60.40625 \nL 10.984375 69.390625 \nL 28.421875 72.90625 \nL 38.28125 72.90625 \nL 38.28125 8.296875 \nL 54.390625 8.296875 \nL 54.390625 0 \nL 12.40625 0 \nz\n\" id=\"DejaVuSans-49\"/>\n        <path d=\"M 31.78125 66.40625 \nQ 24.171875 66.40625 20.328125 58.90625 \nQ 16.5 51.421875 16.5 36.375 \nQ 16.5 21.390625 20.328125 13.890625 \nQ 24.171875 6.390625 31.78125 6.390625 \nQ 39.453125 6.390625 43.28125 13.890625 \nQ 47.125 21.390625 47.125 36.375 \nQ 47.125 51.421875 43.28125 58.90625 \nQ 39.453125 66.40625 31.78125 66.40625 \nz\nM 31.78125 74.21875 \nQ 44.046875 74.21875 50.515625 64.515625 \nQ 56.984375 54.828125 56.984375 36.375 \nQ 56.984375 17.96875 50.515625 8.265625 \nQ 44.046875 -1.421875 31.78125 -1.421875 \nQ 19.53125 -1.421875 13.0625 8.265625 \nQ 6.59375 17.96875 6.59375 36.375 \nQ 6.59375 54.828125 13.0625 64.515625 \nQ 19.53125 74.21875 31.78125 74.21875 \nz\n\" id=\"DejaVuSans-48\"/>\n       </defs>\n       <use xlink:href=\"#DejaVuSans-49\"/>\n       <use x=\"63.623047\" xlink:href=\"#DejaVuSans-48\"/>\n      </g>\n     </g>\n    </g>\n   </g>\n   <g id=\"matplotlib.axis_2\">\n    <g id=\"ytick_1\">\n     <g id=\"line2d_6\">\n      <defs>\n       <path d=\"M 0 0 \nL -3.5 0 \n\" id=\"md006307cd2\" style=\"stroke:#000000;stroke-width:0.8;\"/>\n      </defs>\n      <g>\n       <use style=\"stroke:#000000;stroke-width:0.8;\" x=\"30.103125\" xlink:href=\"#md006307cd2\" y=\"214.756364\"/>\n      </g>\n     </g>\n     <g id=\"text_6\">\n      <!-- 1.0 -->\n      <g transform=\"translate(7.2 218.555582)scale(0.1 -0.1)\">\n       <defs>\n        <path d=\"M 10.6875 12.40625 \nL 21 12.40625 \nL 21 0 \nL 10.6875 0 \nz\n\" id=\"DejaVuSans-46\"/>\n       </defs>\n       <use xlink:href=\"#DejaVuSans-49\"/>\n       <use x=\"63.623047\" xlink:href=\"#DejaVuSans-46\"/>\n       <use x=\"95.410156\" xlink:href=\"#DejaVuSans-48\"/>\n      </g>\n     </g>\n    </g>\n    <g id=\"ytick_2\">\n     <g id=\"line2d_7\">\n      <g>\n       <use style=\"stroke:#000000;stroke-width:0.8;\" x=\"30.103125\" xlink:href=\"#md006307cd2\" y=\"169.046987\"/>\n      </g>\n     </g>\n     <g id=\"text_7\">\n      <!-- 1.5 -->\n      <g transform=\"translate(7.2 172.846206)scale(0.1 -0.1)\">\n       <defs>\n        <path d=\"M 10.796875 72.90625 \nL 49.515625 72.90625 \nL 49.515625 64.59375 \nL 19.828125 64.59375 \nL 19.828125 46.734375 \nQ 21.96875 47.46875 24.109375 47.828125 \nQ 26.265625 48.1875 28.421875 48.1875 \nQ 40.625 48.1875 47.75 41.5 \nQ 54.890625 34.8125 54.890625 23.390625 \nQ 54.890625 11.625 47.5625 5.09375 \nQ 40.234375 -1.421875 26.90625 -1.421875 \nQ 22.3125 -1.421875 17.546875 -0.640625 \nQ 12.796875 0.140625 7.71875 1.703125 \nL 7.71875 11.625 \nQ 12.109375 9.234375 16.796875 8.0625 \nQ 21.484375 6.890625 26.703125 6.890625 \nQ 35.15625 6.890625 40.078125 11.328125 \nQ 45.015625 15.765625 45.015625 23.390625 \nQ 45.015625 31 40.078125 35.4375 \nQ 35.15625 39.890625 26.703125 39.890625 \nQ 22.75 39.890625 18.8125 39.015625 \nQ 14.890625 38.140625 10.796875 36.28125 \nz\n\" id=\"DejaVuSans-53\"/>\n       </defs>\n       <use xlink:href=\"#DejaVuSans-49\"/>\n       <use x=\"63.623047\" xlink:href=\"#DejaVuSans-46\"/>\n       <use x=\"95.410156\" xlink:href=\"#DejaVuSans-53\"/>\n      </g>\n     </g>\n    </g>\n    <g id=\"ytick_3\">\n     <g id=\"line2d_8\">\n      <g>\n       <use style=\"stroke:#000000;stroke-width:0.8;\" x=\"30.103125\" xlink:href=\"#md006307cd2\" y=\"123.337611\"/>\n      </g>\n     </g>\n     <g id=\"text_8\">\n      <!-- 2.0 -->\n      <g transform=\"translate(7.2 127.136829)scale(0.1 -0.1)\">\n       <use xlink:href=\"#DejaVuSans-50\"/>\n       <use x=\"63.623047\" xlink:href=\"#DejaVuSans-46\"/>\n       <use x=\"95.410156\" xlink:href=\"#DejaVuSans-48\"/>\n      </g>\n     </g>\n    </g>\n    <g id=\"ytick_4\">\n     <g id=\"line2d_9\">\n      <g>\n       <use style=\"stroke:#000000;stroke-width:0.8;\" x=\"30.103125\" xlink:href=\"#md006307cd2\" y=\"77.628234\"/>\n      </g>\n     </g>\n     <g id=\"text_9\">\n      <!-- 2.5 -->\n      <g transform=\"translate(7.2 81.427453)scale(0.1 -0.1)\">\n       <use xlink:href=\"#DejaVuSans-50\"/>\n       <use x=\"63.623047\" xlink:href=\"#DejaVuSans-46\"/>\n       <use x=\"95.410156\" xlink:href=\"#DejaVuSans-53\"/>\n      </g>\n     </g>\n    </g>\n    <g id=\"ytick_5\">\n     <g id=\"line2d_10\">\n      <g>\n       <use style=\"stroke:#000000;stroke-width:0.8;\" x=\"30.103125\" xlink:href=\"#md006307cd2\" y=\"31.918858\"/>\n      </g>\n     </g>\n     <g id=\"text_10\">\n      <!-- 3.0 -->\n      <g transform=\"translate(7.2 35.718076)scale(0.1 -0.1)\">\n       <defs>\n        <path d=\"M 40.578125 39.3125 \nQ 47.65625 37.796875 51.625 33 \nQ 55.609375 28.21875 55.609375 21.1875 \nQ 55.609375 10.40625 48.1875 4.484375 \nQ 40.765625 -1.421875 27.09375 -1.421875 \nQ 22.515625 -1.421875 17.65625 -0.515625 \nQ 12.796875 0.390625 7.625 2.203125 \nL 7.625 11.71875 \nQ 11.71875 9.328125 16.59375 8.109375 \nQ 21.484375 6.890625 26.8125 6.890625 \nQ 36.078125 6.890625 40.9375 10.546875 \nQ 45.796875 14.203125 45.796875 21.1875 \nQ 45.796875 27.640625 41.28125 31.265625 \nQ 36.765625 34.90625 28.71875 34.90625 \nL 20.21875 34.90625 \nL 20.21875 43.015625 \nL 29.109375 43.015625 \nQ 36.375 43.015625 40.234375 45.921875 \nQ 44.09375 48.828125 44.09375 54.296875 \nQ 44.09375 59.90625 40.109375 62.90625 \nQ 36.140625 65.921875 28.71875 65.921875 \nQ 24.65625 65.921875 20.015625 65.03125 \nQ 15.375 64.15625 9.8125 62.3125 \nL 9.8125 71.09375 \nQ 15.4375 72.65625 20.34375 73.4375 \nQ 25.25 74.21875 29.59375 74.21875 \nQ 40.828125 74.21875 47.359375 69.109375 \nQ 53.90625 64.015625 53.90625 55.328125 \nQ 53.90625 49.265625 50.4375 45.09375 \nQ 46.96875 40.921875 40.578125 39.3125 \nz\n\" id=\"DejaVuSans-51\"/>\n       </defs>\n       <use xlink:href=\"#DejaVuSans-51\"/>\n       <use x=\"63.623047\" xlink:href=\"#DejaVuSans-46\"/>\n       <use x=\"95.410156\" xlink:href=\"#DejaVuSans-48\"/>\n      </g>\n     </g>\n    </g>\n   </g>\n   <g id=\"line2d_11\">\n    <path clip-path=\"url(#p9bce196c77)\" d=\"M 45.321307 214.756364 \nL 48.395687 210.691343 \nL 51.470067 206.792454 \nL 54.544447 203.040854 \nL 57.618827 199.421013 \nL 60.693208 195.919952 \nL 63.767588 192.526694 \nL 66.841968 189.231855 \nL 69.916348 186.027337 \nL 72.990728 182.906095 \nL 76.065108 179.861957 \nL 79.139489 176.889476 \nL 82.213869 173.983818 \nL 85.288249 171.140669 \nL 88.362629 168.356161 \nL 91.437009 165.626808 \nL 94.511389 162.949457 \nL 97.58577 160.321244 \nL 100.66015 157.739559 \nL 103.73453 155.202015 \nL 106.80891 152.706423 \nL 109.88329 150.250768 \nL 112.95767 147.833192 \nL 116.032051 145.451976 \nL 119.106431 143.105529 \nL 122.180811 140.79237 \nL 125.255191 138.511121 \nL 128.329571 136.260497 \nL 131.403951 134.039296 \nL 134.478332 131.846395 \nL 137.552712 129.680738 \nL 140.627092 127.541334 \nL 143.701472 125.427251 \nL 146.775852 123.337611 \nL 149.850232 121.271585 \nL 152.924613 119.22839 \nL 155.998993 117.207285 \nL 159.073373 115.20757 \nL 162.147753 113.228579 \nL 165.222133 111.26968 \nL 168.296513 109.330275 \nL 171.370894 107.409792 \nL 174.445274 105.507688 \nL 177.519654 103.623446 \nL 180.594034 101.756571 \nL 183.668414 99.906591 \nL 186.742794 98.073057 \nL 189.817175 96.255537 \nL 192.891555 94.45362 \nL 195.965935 92.666909 \nL 199.040315 90.895026 \nL 202.114695 89.137608 \nL 205.189075 87.394307 \nL 208.263456 85.664788 \nL 211.337836 83.948728 \nL 214.412216 82.245819 \nL 217.486596 80.555762 \nL 220.560976 78.878272 \nL 223.635356 77.213071 \nL 226.709737 75.559894 \nL 229.784117 73.918484 \nL 232.858497 72.288593 \nL 235.932877 70.669982 \nL 239.007257 69.06242 \nL 242.081637 67.465683 \nL 245.156018 65.879557 \nL 248.230398 64.303831 \nL 251.304778 62.738305 \nL 254.379158 61.182782 \nL 257.453538 59.637074 \nL 260.527918 58.100996 \nL 263.602299 56.574372 \nL 266.676679 55.057028 \nL 269.751059 53.548798 \nL 272.825439 52.049519 \nL 275.899819 50.559033 \nL 278.974199 49.077189 \nL 282.04858 47.603836 \nL 285.12296 46.138831 \nL 288.19734 44.682034 \nL 291.27172 43.233308 \nL 294.3461 41.79252 \nL 297.42048 40.359541 \nL 300.494861 38.934247 \nL 303.569241 37.516513 \nL 306.643621 36.106222 \nL 309.718001 34.703257 \nL 312.792381 33.307506 \nL 315.866761 31.918858 \nL 318.941142 30.537205 \nL 322.015522 29.162444 \nL 325.089902 27.794472 \nL 328.164282 26.433189 \nL 331.238662 25.078499 \nL 334.313042 23.730306 \nL 337.387423 22.388518 \nL 340.461803 21.053044 \nL 343.536183 19.723797 \nL 346.610563 18.400689 \nL 349.684943 17.083636 \n\" style=\"fill:none;stroke:#1f77b4;stroke-linecap:square;stroke-width:1.5;\"/>\n   </g>\n   <g id=\"patch_3\">\n    <path d=\"M 30.103125 224.64 \nL 30.103125 7.2 \n\" style=\"fill:none;stroke:#000000;stroke-linecap:square;stroke-linejoin:miter;stroke-width:0.8;\"/>\n   </g>\n   <g id=\"patch_4\">\n    <path d=\"M 364.903125 224.64 \nL 364.903125 7.2 \n\" style=\"fill:none;stroke:#000000;stroke-linecap:square;stroke-linejoin:miter;stroke-width:0.8;\"/>\n   </g>\n   <g id=\"patch_5\">\n    <path d=\"M 30.103125 224.64 \nL 364.903125 224.64 \n\" style=\"fill:none;stroke:#000000;stroke-linecap:square;stroke-linejoin:miter;stroke-width:0.8;\"/>\n   </g>\n   <g id=\"patch_6\">\n    <path d=\"M 30.103125 7.2 \nL 364.903125 7.2 \n\" style=\"fill:none;stroke:#000000;stroke-linecap:square;stroke-linejoin:miter;stroke-width:0.8;\"/>\n   </g>\n  </g>\n </g>\n <defs>\n  <clipPath id=\"p9bce196c77\">\n   <rect height=\"217.44\" width=\"334.8\" x=\"30.103125\" y=\"7.2\"/>\n  </clipPath>\n </defs>\n</svg>\n",
      "image/png": "[encoded data removed]"
     },
     "metadata": {
      "needs_background": "light"
     }
    }
   ],
   "source": [
    "x = np.linspace(1,10,100) # Create a list (array) of evenly spaced 100 numbers over interval [1,10]\n",
    "plt.plot(x, np.sqrt(x)) # Plot the square root of each x point\n",
    "# Note that np.sqrt returns array-like object and differs from math.sqrt function\n",
    "plt.show() # Show current plot"
   ]
  },
  {
   "source": [
    "# Discrete probability distributions\n",
    "The probability distribution of a discrete random variable is a graph, table, or formula that specifies the probability associated with each possible outcome the random variable can assume\n",
    "\n",
    "## Binomial distribution\n",
    "A binomial discrete random variable. binom, which is a function of $k$, takes as the shape parameters $n$ and $p$, and is defined as follows:\n",
    "\n",
    "$P(k)=\\binom{n}{k}p^{k}(1-p)^{n-k}$ , where:\n",
    "\n",
    "$k$ - (desired) number of succeses,\n",
    "\n",
    "$n$ - number of trails (sample size),\n",
    "\n",
    "$p$ - probability of success on a single trail\n"
   ],
   "cell_type": "markdown",
   "metadata": {}
  },
  {
   "cell_type": "code",
   "execution_count": 4,
   "metadata": {},
   "outputs": [
    {
     "output_type": "execute_result",
     "data": {
      "text/plain": [
       "<scipy.stats._discrete_distns.binom_gen at 0x11f769e80>"
      ]
     },
     "metadata": {},
     "execution_count": 4
    }
   ],
   "source": [
    "st.binom"
   ]
  },
  {
   "source": [
    "### Exercise\n",
    "A 2019 GUS survey suggests that 26.2% of Poles are obese.\n",
    "Among a random sample of 10 Poles, what is the probability that exactly 8 are obese?"
   ],
   "cell_type": "markdown",
   "metadata": {}
  },
  {
   "cell_type": "code",
   "execution_count": 5,
   "metadata": {},
   "outputs": [
    {
     "output_type": "execute_result",
     "data": {
      "text/plain": [
       "0.0005441712184877579"
      ]
     },
     "metadata": {},
     "execution_count": 5
    }
   ],
   "source": [
    "# A binomial distribution\n",
    "rv = st.binom(n = 10, p = 0.262)\n",
    "rv.pmf(k = 8)"
   ]
  },
  {
   "source": [
    "### Exercise\n",
    "Study found that approximately 25% of Facebook users are considered power users. The same study found that the average Facebook user has 245 friends. What is the probability that the average Facebook user with 245 friends has 70 or more friends who would be considered power users?"
   ],
   "cell_type": "markdown",
   "metadata": {}
  },
  {
   "source": [
    "# Assuming every user in the friend list is independent from each other,\n",
    "# we can use binomial probability distribution.\n",
    "rv = st.binom(n = 245, p = 0.25)\n",
    "# P(X>=70) = 1 - P(X<=69)\n",
    "1 - rv.cdf(69)"
   ],
   "cell_type": "code",
   "metadata": {},
   "execution_count": 6,
   "outputs": [
    {
     "output_type": "execute_result",
     "data": {
      "text/plain": [
       "0.11276297589148432"
      ]
     },
     "metadata": {},
     "execution_count": 6
    }
   ]
  },
  {
   "source": [
    "### Exercise\n",
    "If a passing proportion for a course given repeatedly is assumed to be 0.80 on average, and there are 250 students who are taking the exam each time, what is the expected value, $\\mu$ and standard deviation, $\\sigma$, for the number of students who do not pass the exam for a randomly selected course?"
   ],
   "cell_type": "markdown",
   "metadata": {}
  },
  {
   "cell_type": "code",
   "execution_count": 7,
   "metadata": {},
   "outputs": [
    {
     "output_type": "stream",
     "name": "stdout",
     "text": [
      "50.0 - expected value/mean \n40.0 - variance \n6.324555320336759 - standard deviation \n"
     ]
    }
   ],
   "source": [
    "# We are interested in students who fail to pas the exam.\n",
    "# Knowing that p = 0.8 on average pass the course, q = 1 - 0.8 do not pass.\n",
    "# Assuming students attempt the exam independently, we can use binomial\n",
    "# probability ditribution.\n",
    "rv = st.binom(n = 250, p = 0.2)\n",
    "print(f\"{rv.mean()}\" + \" - expected value/mean \")\n",
    "print(f\"{rv.var()}\" + \" - variance \")\n",
    "print(f\"{math.sqrt(rv.var())}\" + \" - standard deviation \")"
   ]
  },
  {
   "source": [
    "### Exercise\n",
    "According to a recent survey 96% of all customers in grocery stores pay cash while the rest use their credit or cash card. You are currently waiting in the queue at the checkout of a grocery store with 8 customers in front of you. What is the probability (in percent) that 2 or more of the other customers pay with their card?"
   ],
   "cell_type": "markdown",
   "metadata": {}
  },
  {
   "cell_type": "code",
   "execution_count": 8,
   "metadata": {},
   "outputs": [
    {
     "output_type": "execute_result",
     "data": {
      "text/plain": [
       "0.038147228021555235"
      ]
     },
     "metadata": {},
     "execution_count": 8
    }
   ],
   "source": [
    "# A binomial distribution\n",
    "rv = st.binom(n = 8, p = 1 - 0.96)\n",
    "# P(X>=2) = 1 - P(X<2) = 1 - P(X<=1) for discrete distribution\n",
    "1 - rv.cdf(1)"
   ]
  },
  {
   "source": [
    "## Negative binomial distribution\n",
    "A negative discrete random variable. nbinom, which is a function of $k$, takes as the shape parameters $n$ and $p$, and is defined as follows:\n",
    "\n",
    "$P(k)=\\binom{k+n-1}{n-1}p^{n}(1-p)^{k}$ , where:\n",
    "\n",
    "$k$ - number of failures (number of trails - n),\n",
    "\n",
    "$n$ - (desired) number of successes,\n",
    "\n",
    "$p$ - probability of success on a single trail\n"
   ],
   "cell_type": "markdown",
   "metadata": {}
  },
  {
   "cell_type": "code",
   "execution_count": 9,
   "metadata": {},
   "outputs": [
    {
     "output_type": "execute_result",
     "data": {
      "text/plain": [
       "<scipy.stats._discrete_distns.nbinom_gen at 0x11f77a340>"
      ]
     },
     "metadata": {},
     "execution_count": 9
    }
   ],
   "source": [
    "st.nbinom"
   ]
  },
  {
   "source": [
    "### Exercise\n",
    "A college student working at a psychology lab is asked to recruit 10 couples to participate in a study. She decides to stand outside the student center and ask every 5th person leaving the building whether they are in a relationship and, if so, whether they would like to participate in the study with their significant other. Suppose the probability of finding such a person is 10%. What is the probability that she will need to ask 30 people before she hits her goal?"
   ],
   "cell_type": "markdown",
   "metadata": {}
  },
  {
   "cell_type": "code",
   "execution_count": 10,
   "metadata": {},
   "outputs": [
    {
     "output_type": "execute_result",
     "data": {
      "text/plain": [
       "0.00012175908036078153"
      ]
     },
     "metadata": {},
     "execution_count": 10
    }
   ],
   "source": [
    "# A negative binomial distribution\n",
    "rv = st.nbinom(n = 10, p = 0.1)\n",
    "rv.pmf(k = 30 - 10)"
   ]
  },
  {
   "source": [
    "## Poisson distribution\n",
    "A poisson discrete random variable. poissonn, which is a function of $k$, takes as the shape parameters $mu$, and is defined as follows:\n",
    "\n",
    "$P(k)=exp(-\\mu)\\frac{\\mu^k}{k!}$ , where:\n",
    "\n",
    "$k$ - (desired) number of occurrences (successes),\n",
    "\n",
    "$mu$ - mean number of occurences in the given peroid of time, area etc."
   ],
   "cell_type": "markdown",
   "metadata": {}
  },
  {
   "cell_type": "code",
   "execution_count": 11,
   "metadata": {},
   "outputs": [
    {
     "output_type": "execute_result",
     "data": {
      "text/plain": [
       "<scipy.stats._discrete_distns.poisson_gen at 0x11f77ac10>"
      ]
     },
     "metadata": {},
     "execution_count": 11
    }
   ],
   "source": [
    "st.poisson"
   ]
  },
  {
   "source": [
    "### Exercise\n",
    "Suppose that in a rural region of a developing country electricity power failures occur following a Poisson distribution with an average of 2 failures every week. Calculate the probability that in a given week the electricity fails only once."
   ],
   "cell_type": "markdown",
   "metadata": {}
  },
  {
   "cell_type": "code",
   "execution_count": 12,
   "metadata": {},
   "outputs": [
    {
     "output_type": "execute_result",
     "data": {
      "text/plain": [
       "0.2706705664732254"
      ]
     },
     "metadata": {},
     "execution_count": 12
    }
   ],
   "source": [
    "# A Poisson distribution\n",
    "rv = st.poisson(mu = 2)\n",
    "rv.pmf(k = 1)"
   ]
  },
  {
   "source": [
    "### Exercise\n",
    "Suppose that in a rural region of a developing country electricity power failures occur following a Poisson distribution with an average of 2 failures every week. Calculate the probability that on a given day the electricity fails three times."
   ],
   "cell_type": "markdown",
   "metadata": {}
  },
  {
   "cell_type": "code",
   "execution_count": 13,
   "metadata": {},
   "outputs": [
    {
     "output_type": "execute_result",
     "data": {
      "text/plain": [
       "0.0029211945309049027"
      ]
     },
     "metadata": {},
     "execution_count": 13
    }
   ],
   "source": [
    "# A Poisson distribution\n",
    "# We need to calculate the average number of failures per day\n",
    "mu = 2/7\n",
    "rv = st.poisson(mu)\n",
    "rv.pmf(k = 3)"
   ]
  },
  {
   "source": [
    "## Hypergeometric distribution\n",
    "A hypergeometric discrete random variable. hypergeom, which is a function of $k$, takes as the shape parameters $M$, $n$ and $N$, and is defined as follows:\n",
    "\n",
    "$P(k)=\\frac{\\binom{n}{k}\\binom{M-n}{N-k}}{\\binom{M}{N}}$ , where:\n",
    "\n",
    "$k$ - Number of successes in the N elements,\n",
    "\n",
    "$M$ - the total number of elements,\n",
    "\n",
    "$n$ - number of successes in the M elements,\n",
    "\n",
    "$N$ - the number of elements drawn."
   ],
   "cell_type": "markdown",
   "metadata": {}
  },
  {
   "cell_type": "code",
   "execution_count": 14,
   "metadata": {},
   "outputs": [
    {
     "output_type": "execute_result",
     "data": {
      "text/plain": [
       "<scipy.stats._discrete_distns.hypergeom_gen at 0x11f77a6a0>"
      ]
     },
     "metadata": {},
     "execution_count": 14
    }
   ],
   "source": [
    "st.hypergeom"
   ]
  },
  {
   "source": [
    "### Exercise\n",
    "Suppose a customer at a pet store wants to buy two hamsters for his daughter, but he wants two males or two females (i.e., he wants only two hamsters in a few months). If there are ten hamsters, five male and five female, what is the probability of drawing two of the same sex?"
   ],
   "cell_type": "markdown",
   "metadata": {}
  },
  {
   "source": [
    "# A hypergeometric distirubion\n",
    "rv = st.hypergeom(M = 10, n = 5, N = 2)\n",
    "# We are interested in either pulling two female hamsters, or two male hamsters. \n",
    "# Since P(Female = 2) = P(Male = 2), we can denote the answer as 2 * P(2)\n",
    "ans = 2 * rv.pmf(k = 2)\n",
    "ans"
   ],
   "cell_type": "code",
   "metadata": {},
   "execution_count": 15,
   "outputs": [
    {
     "output_type": "execute_result",
     "data": {
      "text/plain": [
       "0.4444444444444448"
      ]
     },
     "metadata": {},
     "execution_count": 15
    }
   ]
  },
  {
   "source": [
    "# Continuous probability distributions\n",
    "The probability distribution of a continuous random variable is a graph, table, or formula that specifies the probability associated with each possible outcome the random variable can assume. Because there are infinite amount of values of x, the probability of x taking any specific value is 0. Therefore it is more intiutive to consider intervals.\n",
    "\n",
    "## Uniform distribution\n",
    "A uniform continuous random variable. uniform takes as a shape parameters $loc$ and $scale$, and its **cumulative distribution function** (CDF) is defined as follows:\n",
    "\n",
    "$P(k)=\\frac{k-loc}{scale}$ , where:\n",
    "\n",
    "$k$ - upper boundary of interest,\n",
    "\n",
    "$loc$ - lower boundary of domain,\n",
    "\n",
    "$scale$ - displacement vector such that (loc + scale) is upper boundary of domain"
   ],
   "cell_type": "markdown",
   "metadata": {}
  },
  {
   "cell_type": "code",
   "execution_count": 16,
   "metadata": {},
   "outputs": [
    {
     "output_type": "execute_result",
     "data": {
      "text/plain": [
       "<scipy.stats._continuous_distns.uniform_gen at 0x11f761190>"
      ]
     },
     "metadata": {},
     "execution_count": 16
    }
   ],
   "source": [
    "st.uniform"
   ]
  },
  {
   "source": [
    "### Exercise\n",
    "Suppose in a quiz there are 30 participants.\n",
    "A question is given to all 30 participants and the time allowed to answer it is 25 seconds.\n",
    "Find the probability of participants responds within 6 seconds?"
   ],
   "cell_type": "markdown",
   "metadata": {}
  },
  {
   "cell_type": "code",
   "execution_count": 17,
   "metadata": {},
   "outputs": [
    {
     "output_type": "execute_result",
     "data": {
      "text/plain": [
       "0.24"
      ]
     },
     "metadata": {},
     "execution_count": 17
    }
   ],
   "source": [
    "# A uniform distribution\n",
    "rv = st.uniform(loc = 0, scale = 25)\n",
    "rv.cdf(6)"
   ]
  },
  {
   "source": [
    "## Normal distribution\n",
    "A normal continuous random variable. norm takes as a shape parameters $loc$ and $scale$, where $loc$ specifies the mean and $scale$ specifies the standard deviation, and its probability density function is defined as follows: \n",
    "\n",
    "$f{{\\left({x}\\right)}}=\\frac{1}{{\\sigma\\sqrt{{{2}\\pi}}}}{e}^{{-{\\left({x}-\\mu\\right)}^{2}\\text{/}{2}\\ \\sigma^{2}}}$ , where:\n",
    "\n",
    "$\\mu$ = $loc$ - mean,\n",
    "\n",
    "$\\sigma$ = $scale$ - standard deviation"
   ],
   "cell_type": "markdown",
   "metadata": {}
  },
  {
   "cell_type": "code",
   "execution_count": 18,
   "metadata": {},
   "outputs": [
    {
     "output_type": "execute_result",
     "data": {
      "text/plain": [
       "<scipy.stats._continuous_distns.norm_gen at 0x11f6a34c0>"
      ]
     },
     "metadata": {},
     "execution_count": 18
    }
   ],
   "source": [
    "st.norm"
   ]
  },
  {
   "source": [
    "### Percentiles\n",
    "Percentile is the percentage of observations that fall below a given data point. Graphically, percentile is the area below the probability distribution curve to the left of that observation. To calculate percentiles, we use *cdf* method:"
   ],
   "cell_type": "markdown",
   "metadata": {}
  },
  {
   "cell_type": "code",
   "execution_count": 19,
   "metadata": {},
   "outputs": [
    {
     "output_type": "execute_result",
     "data": {
      "text/plain": [
       "0.8364569406723077"
      ]
     },
     "metadata": {},
     "execution_count": 19
    }
   ],
   "source": [
    "st.norm(loc = 1000, scale = 250).cdf(1245)"
   ]
  },
  {
   "source": [
    "To find an exact point below which falls given percentage of observations, we use the inverse of cumulative distribution function, percent point function - $ppf$ method:"
   ],
   "cell_type": "markdown",
   "metadata": {}
  },
  {
   "cell_type": "code",
   "execution_count": 20,
   "metadata": {},
   "outputs": [
    {
     "output_type": "execute_result",
     "data": {
      "text/plain": [
       "35.60291390411878"
      ]
     },
     "metadata": {},
     "execution_count": 20
    }
   ],
   "source": [
    "st.norm(loc = 36.5, scale = 0.7).ppf(0.1)"
   ]
  },
  {
   "source": [
    "### Exercise\n",
    "At Heinz ketchup factory the amounts which go into bottles of ketchup are supposed to be normally distributed with mean 36 oz. and standard deviation 0.11 oz.\n",
    "Once every 30 minutes a bottle is selected from the production line, and its contents are noted precisely. If the amount of ketchup in the bottle is below 35.8 oz. or above 36.2 oz., then the bottle fails the quality control inspection. What percent of bottles have less than 35.8 ounces of ketchup? What percent of bottles pass the quality control inspection? "
   ],
   "cell_type": "markdown",
   "metadata": {}
  },
  {
   "cell_type": "code",
   "execution_count": 21,
   "metadata": {},
   "outputs": [
    {
     "output_type": "stream",
     "name": "stdout",
     "text": [
      "3.4518173997205635% of bottles have less than 35.8 ounces of ketchup\n93.09636520055888% of bottles pass the quality control inspection\n"
     ]
    }
   ],
   "source": [
    "# A normal distribution\n",
    "rv = st.norm(loc = 36, scale = 0.11)\n",
    "ans_1 = rv.cdf(35.8)\n",
    "print(f\"{ans_1*100}\" + \"% of bottles have less than 35.8 ounces of ketchup\")\n",
    "ans_2 = rv.cdf(36.2) - rv.cdf(35.8)\n",
    "print(f\"{ans_2*100}\" + \"% of bottles pass the quality control inspection\")"
   ]
  },
  {
   "source": [
    "### Exercise\n",
    "Body temperatures of healthy humans are distributed nearly normally with mean 98.2 F and standard deviation 0.73 F. What is the cutoff for the lowest 3% of human body temperatures? What is the cutoff for the highest 10% of human body temperatures?"
   ],
   "cell_type": "markdown",
   "metadata": {}
  },
  {
   "cell_type": "code",
   "execution_count": 22,
   "metadata": {},
   "outputs": [
    {
     "output_type": "stream",
     "name": "stdout",
     "text": [
      "96.82702066604959 F - cutoff for the lowest 3% of observations\n99.13553264284756 F - cutoff for the highest 10% of observations\n"
     ]
    }
   ],
   "source": [
    "# A normal distribution\n",
    "rv = st.norm(loc = 98.2, scale = 0.73)\n",
    "ans_1 = rv.ppf(0.03)\n",
    "print(f\"{ans_1}\" + \" F - cutoff for the lowest 3% of observations\")\n",
    "ans_2 = rv.ppf(0.9)\n",
    "print(f\"{ans_2}\" + \" F - cutoff for the highest 10% of observations\")"
   ]
  },
  {
   "source": [
    "# Sample statistics\n",
    "In sampling statistics, we sample population to estimate a population parameter. The sampling distribution of a statistic is the distribution of all possible values of the statistic, computed from samples of the same size randomly drawn from the same population."
   ],
   "cell_type": "markdown",
   "metadata": {}
  },
  {
   "source": [
    "### Exercise\n",
    "Nationally 74% of college freshman continue as sophomores. A particular school has 486 out of all 600 freshmen stay. Is this unusual?"
   ],
   "cell_type": "markdown",
   "metadata": {}
  },
  {
   "cell_type": "code",
   "execution_count": 23,
   "metadata": {},
   "outputs": [
    {
     "output_type": "stream",
     "name": "stdout",
     "text": [
      "Yes\n"
     ]
    }
   ],
   "source": [
    "# Such large sample can be approximated with normal distribution.\n",
    "# We calculate the parameters using binomial distribution parameters\n",
    "n = 600\n",
    "p = 0.74\n",
    "mu = n * p\n",
    "sigma = math.sqrt(n * p * (1-p))\n",
    "# We create normal distribution instance using calculated parameters\n",
    "rv = st.norm(loc = mu, scale = sigma)\n",
    "# 486 falls above 99.7 % of observations, thus is considered unusual.\n",
    "ans = \"Yes\" if rv.cdf(486) > 0.997 else \"No\"\n",
    "print(ans) "
   ]
  },
  {
   "source": [
    "### Exercise\n",
    "A Teacher has a class of 68 students taking the midterm test. Assuming they are typical of the population, the result of whose scores are given, what is the probability the average score will be at least 3?\n",
    "\n",
    "| 1     | 2     | 3     | 4     | 5     |\n",
    "|-------|-------|-------|-------|-------|\n",
    "| 0.215 | 0.188 | 0.247 | 0.217 | 0.133 |"
   ],
   "cell_type": "markdown",
   "metadata": {}
  },
  {
   "cell_type": "code",
   "execution_count": 24,
   "metadata": {},
   "outputs": [
    {
     "output_type": "execute_result",
     "data": {
      "text/plain": [
       "0.20194478054667075"
      ]
     },
     "metadata": {},
     "execution_count": 24
    }
   ],
   "source": [
    "# We need to estimate mean and standard deviation to use normal model\n",
    "# Since we have no information about distibution, we use generic rv_discrete \n",
    "# class to ease the calculations\n",
    "n = 68\n",
    "rv = st.rv_discrete(values = (\n",
    "    [1, 2, 3, 4, 5],\n",
    "    [0.215, 0.188, 0.247, 0.217, 0.133])\n",
    "    )\n",
    "mu = rv.mean()\n",
    "# Our sample size includes 68 observations\n",
    "sigma = math.sqrt(rv.var() / n)\n",
    "# Now we can create new normal model\n",
    "rv = st.norm(loc = mu, scale = sigma)\n",
    "# P(X>=3) = 1 - P(X<3)\n",
    "1 - rv.cdf(3)"
   ]
  },
  {
   "source": [
    "### Exercise\n",
    "A waitress earns varying tips with a mean of 10.90 dollars and sd of 5.60 dollars. Assume on the weekend she gets 60 tips.\n",
    "- What is the probability she earns 750 dollars or more?\n",
    "- On the best 5% of weekends, she earns at least how much dollars? (i.e. what does she make less than on 95% of weekends)?"
   ],
   "cell_type": "markdown",
   "metadata": {}
  },
  {
   "source": [
    "# A normal distribution model\n",
    "n = 60\n",
    "# Expected value, mean, is equal to number of tips and mean value of every each one\n",
    "mu = 10.90 * n\n",
    "# D(Z)^2 = 60 * D(X)^2\n",
    "sigma = 5.60 * math.sqrt(n)\n",
    "rv = st.norm(loc = mu, scale = sigma)\n",
    "# P(X>=750) = 1 - P(X<750)\n",
    "ans_1 = 1 - rv.cdf(750)\n",
    "print(f\"{ans_1}\" + \" - probability she earns 750 dollars or more\")\n",
    "ans_2 = rv.ppf(0.95)\n",
    "print(f\"{ans_2}\" + \" - leats amount of dollars she makes durring 5% best weekends\")"
   ],
   "cell_type": "code",
   "metadata": {},
   "execution_count": 25,
   "outputs": [
    {
     "output_type": "stream",
     "name": "stdout",
     "text": [
      "0.01344422705187287 - probability she earns 750 dollars or more\n725.3494958862775 - leats amount of dollars she makes durring 5% best weekends\n"
     ]
    }
   ]
  },
  {
   "source": [
    "### Exercise\n",
    "IQ Scores are normally distributed. Students at University A have IQ scores mean 130 and sd 6. At University B the mean is 120 and sd is 9.\n",
    "If you compare a random student from each university, what is the probability the IQ score from the University A student will be higher by 5 points or more?\n",
    "- IQ Scores from University A ~ $\\mu$ = 130, $\\sigma$ = 6\n",
    "- IQ Scores from University B ~ $\\mu$ = 120, $\\sigma$ = 9"
   ],
   "cell_type": "markdown",
   "metadata": {}
  },
  {
   "cell_type": "code",
   "execution_count": 26,
   "metadata": {},
   "outputs": [
    {
     "output_type": "execute_result",
     "data": {
      "text/plain": [
       "0.6780490331101745"
      ]
     },
     "metadata": {},
     "execution_count": 26
    }
   ],
   "source": [
    "# We are interested in difference between IQ score of student from university A and \n",
    "# from university B\n",
    "mu = 130 - 120\n",
    "# D^2(Z) = D^2(X-Y) = D^2(X) + D^2(Y)\n",
    "sigma = math.sqrt(6*6 + 9*9)\n",
    "rv = st.norm(loc = mu, scale = sigma)\n",
    "1 - rv.cdf(5)"
   ]
  },
  {
   "source": [
    "### Exercise\n",
    "Males and females were asked about what they would do if they received a $100 bill by mail, addressed to their neighbor, but wrongly delivered to them.\n",
    "Would they return it to their neighbor? Of the 69 males sampled, 52 said yes and of the 131 females sampled, 120 yes.\n",
    "- Does the data indicate that the difference in proportions that said yes is usually a rule and is significantly greater than 10 percentage points?\n",
    "- Provide 95% confidence interval"
   ],
   "cell_type": "markdown",
   "metadata": {}
  },
  {
   "source": [
    "# We are interested in difference between proportions of sampled males and females\n",
    "p_male = 52 / 69\n",
    "p_fem = 120 / 131\n",
    "# Assuming trails are independent, we can calculate variance and standard deviation\n",
    "# from binomial distirubution\n",
    "var_male = st.binom(n = 69, p = p_male).var()\n",
    "var_fem = st.binom(n = 131, p = p_fem).var()\n",
    "# E(Z) = E(X-Y) = E(X) - E(Y)\n",
    "mu = p_fem - p_male\n",
    "# D^2(Z) = D^2(X-Y) = D^2(X) + D^2(Y)\n",
    "sigma = math.sqrt(var_fem + var_male)\n",
    "rv = st.norm(loc = mu, scale = sigma)\n",
    "ans_1 = \"Yes\" if rv.mean() > 0.10 else \"No\"\n",
    "print(f\"{ans_1}\" + f\", {rv.mean()}\")\n",
    "print(f\"{rv.interval(0.95)}\" + \" - 95% confidence interval\" )"
   ],
   "cell_type": "code",
   "metadata": {},
   "execution_count": 27,
   "outputs": [
    {
     "output_type": "stream",
     "name": "stdout",
     "text": [
      "Yes, 0.1624073459453479\n(-9.21432134247101, 9.539136034361704) - 95% confidence interval\n"
     ]
    }
   ]
  },
  {
   "source": [
    "### Exercise\n",
    "Assume that you would like to test whether proper amount of Cola is inside of Coca-Cola 330ml cans. For this purpose, you bought random amount of cola cans and measure the amount of cola inside of those cans. Determine a 0.98 confidence interval for the mean capacity of Coca-Cola cans. Check whether the sample is large enough to achieve 3% of accuracy.\n",
    "\n",
    "Dataset is available [here](https://raw.githubusercontent.com/k-kedzierski/everything-statistics/main/src/midterm_data.csv)."
   ],
   "cell_type": "markdown",
   "metadata": {}
  },
  {
   "cell_type": "code",
   "execution_count": 28,
   "metadata": {},
   "outputs": [
    {
     "output_type": "stream",
     "name": "stdout",
     "text": [
      "(-2.527977002740546, 2.527977002740546) - t-scores\n(array([321.3236842]), array([338.84121577])) - 0.98 confidence interval\n0.026535084747198102 - accuracy level\n"
     ]
    }
   ],
   "source": [
    "# Import data using Pandas\n",
    "df = pd.read_csv(\"https://raw.githubusercontent.com/k-kedzierski/everything-statistics/main/src/midterm_data.csv\")\n",
    "# First, we need to determine our sample size\n",
    "n = len(df)\n",
    "# Our sample size is small, thus we will use student-t distribution with t-scores\n",
    "print(f\"{st.t(n - 1).interval(0.98)}\" + \" - t-scores\")\n",
    "# st.sem takes as a parameter degrees of freedom\n",
    "rv = st.t(df = n - 1, loc = df.x.mean(), scale = st.sem(df, ddof = n - 1))\n",
    "interval = rv.interval(0.98)\n",
    "print(f\"{interval}\" + \" - 0.98 confidence interval\")\n",
    "# To check whether our sample is large enough, we need to calculate accuracy level\n",
    "# from standard error\n",
    "se = st.t(n - 1).interval(0.98)[1] * math.sqrt(df.x.var(ddof = n - 1) / n)\n",
    "accuracy_level = se / df.x.mean()\n",
    "print(f\"{accuracy_level}\" + \" - accuracy level\")"
   ]
  },
  {
   "source": [
    "### Exercise\n",
    "An auto insurance company has 22530 clients, and 28% of their clients submitted a claim in the past year. We took a sample of 224 clients.\n",
    "- Determine a 99% confidence interval for the proportion of clients who didn't submit a claim last year.\n",
    "- Check whether the sample is large enough to achieve 3% of accuracy."
   ],
   "cell_type": "markdown",
   "metadata": {}
  },
  {
   "cell_type": "code",
   "execution_count": 29,
   "metadata": {},
   "outputs": [
    {
     "output_type": "stream",
     "name": "stdout",
     "text": [
      "(143.97042708015138, 178.58957291984862) - 0.99 confidence interval\n0.007171034777300981 - accuracy level\n"
     ]
    }
   ],
   "source": [
    "# Assuming independency of trails, we can use normal approximation to\n",
    "# binomial distribution\n",
    "n = 224\n",
    "mu = n * (1 - 0.28)\n",
    "sigma = math.sqrt(n * 0.28 * (1 - 0.28))\n",
    "rv = st.norm(loc = mu, scale = sigma)\n",
    "interval = rv.interval(0.99)\n",
    "print(f\"{interval}\" + \" - 0.99 confidence interval\")\n",
    "# To check whether our sample is large enough, we need to calculate accuracy level\n",
    "# from standard error\n",
    "se = st.norm.interval(0.99)[1] * math.sqrt(rv.var() / n)\n",
    "accuracy_level = se / rv.mean()\n",
    "print(f\"{accuracy_level}\" + \" - accuracy level\")"
   ]
  },
  {
   "source": [
    "## Other"
   ],
   "cell_type": "markdown",
   "metadata": {}
  },
  {
   "cell_type": "code",
   "execution_count": 30,
   "metadata": {},
   "outputs": [],
   "source": [
    "n = 800\n",
    "x = 586\n",
    "p_hat = x/n # Point estimation for sample\n",
    "lb = p_hat - 1.96 * math.sqrt((p_hat * (1-p_hat))/n) # qnorm(0.95)\n",
    "ub = p_hat + 1.96 * math.sqrt((p_hat * (1-p_hat))/n)\n",
    "interval = [lb,ub]"
   ]
  }
 ],
 "metadata": {
  "kernelspec": {
   "display_name": "Python 3",
   "language": "python",
   "name": "python3"
  },
  "language_info": {
   "codemirror_mode": {
    "name": "ipython",
    "version": 3
   },
   "file_extension": ".py",
   "mimetype": "text/x-python",
   "name": "python",
   "nbconvert_exporter": "python",
   "pygments_lexer": "ipython3",
   "version": "3.9.0-final"
  }
 },
 "nbformat": 4,
 "nbformat_minor": 4
}